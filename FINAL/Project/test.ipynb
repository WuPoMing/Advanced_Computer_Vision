{
 "cells": [
  {
   "cell_type": "code",
   "execution_count": 5,
   "metadata": {},
   "outputs": [],
   "source": [
    "import numpy as np\n",
    "\n",
    "def preprocess(file_path):\n",
    "\n",
    "    with open(file_path, 'r', encoding='utf-8') as f:\n",
    "        data = [line.strip('\\n').split(' ') for line in f]\n",
    "\n",
    "    list = []\n",
    "\n",
    "    for i, line in enumerate(data):\n",
    "\n",
    "        if line[0] == '25' and len(data[i-2]) == 1:\n",
    "            \n",
    "            for j in range(i+1, i+26):\n",
    "\n",
    "                list.append(data[j][0:3])\n",
    "\n",
    "    l2 = [list[i:i+25] for i in range(0, len(list), 25)]\n",
    "\n",
    "    return np.array(l2).astype(float)\n",
    "\n",
    "def predict(data_array):\n",
    "    \n",
    "    diff = np.diff(data_array, axis=0)\n",
    "\n",
    "    sum = np.sum(diff, axis=0) # (25, 3)\n",
    "\n",
    "    sum_abs_xyz = np.sum(np.sum(np.abs(diff), axis=0), axis=1) # (25)\n",
    "    abs_max_joint = np.argmax(sum_abs_xyz) + 1\n",
    "\n",
    "    if sum_abs_xyz[3] < 1.21:\n",
    "        if abs_max_joint == 22 or abs_max_joint == 23 or abs_max_joint == 24 or abs_max_joint == 25:\n",
    "            print('Hand waving')\n",
    "        elif abs_max_joint == 15 or abs_max_joint == 16 or abs_max_joint == 19 or abs_max_joint == 20:\n",
    "            print('Kicking something')\n",
    "        else:\n",
    "            print('cannot predict!')\n",
    "    elif sum[3][1] > 0:\n",
    "        print('Stand up')\n",
    "    elif sum[3][1] < 0:\n",
    "        print('Sit down')\n",
    "    else:\n",
    "        print('cannot predict!')"
   ]
  },
  {
   "cell_type": "code",
   "execution_count": 23,
   "metadata": {},
   "outputs": [
    {
     "name": "stdout",
     "output_type": "stream",
     "text": [
      "Kicking something\n"
     ]
    }
   ],
   "source": [
    "if __name__ == '__main__':\n",
    "\n",
    "\t# FILE_PATH = r'testing\\1\\skeleton\\S001C001P007R001A024.skeleton'\n",
    "\tFILE_PATH = input('Enter .skeleton File Path: ')\n",
    "\tdataArray = preprocess(FILE_PATH)\n",
    "\tpredict(dataArray)"
   ]
  }
 ],
 "metadata": {
  "kernelspec": {
   "display_name": "tf",
   "language": "python",
   "name": "python3"
  },
  "language_info": {
   "codemirror_mode": {
    "name": "ipython",
    "version": 3
   },
   "file_extension": ".py",
   "mimetype": "text/x-python",
   "name": "python",
   "nbconvert_exporter": "python",
   "pygments_lexer": "ipython3",
   "version": "3.9.15 (main, Nov 24 2022, 14:39:17) [MSC v.1916 64 bit (AMD64)]"
  },
  "orig_nbformat": 4,
  "vscode": {
   "interpreter": {
    "hash": "583a8cea36e79e06f760d782c576939e80fc087b4583f97c5a92ca77f01fbeea"
   }
  }
 },
 "nbformat": 4,
 "nbformat_minor": 2
}
